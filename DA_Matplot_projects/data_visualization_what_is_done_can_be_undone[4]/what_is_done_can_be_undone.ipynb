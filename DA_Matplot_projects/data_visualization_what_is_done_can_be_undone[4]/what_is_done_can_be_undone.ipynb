{
 "cells": [
  {
   "cell_type": "markdown",
   "metadata": {},
   "source": [
    "\n",
    "<h1 align=center style=\"line-height:200%;font-family:vazir;color:#0099cc\">\n",
    "<font face=\"vazir\" color=\"#0099cc\">\n",
    "آب رفته به جوی باز‌می‌گردد\n",
    "\n",
    "</font>\n",
    "</h1>\n"
   ]
  },
  {
   "attachments": {},
   "cell_type": "markdown",
   "metadata": {},
   "source": [
    "<p dir=rtl style=\"direction: rtl;text-align: justify;line-height:200%;font-family:vazir;font-size:medium\">\n",
    "<font face=\"vazir\" size=3>\n",
    "یکی از دوستان شما، روزانه مدتی را به دویدن می‌پردازد و زمان دویدن خود را در قالب یک نمودار ذخیره کرده است. شما متوجه‌ می‌شوید که فایل نمودار به‌اشتباه حذف شده است و شما باید به‌کمک یاد‌داشت‌های دوست‌تان، نمودار را بازتولید کنید.\n",
    "</font>\n",
    "</p>\n"
   ]
  },
  {
   "attachments": {},
   "cell_type": "markdown",
   "metadata": {},
   "source": [
    "<h2 align=right style=\"direction: rtl;line-height:200%;font-family:vazir;color:#0099cc\">\n",
    "<font face=\"vazir\" color=\"#0099cc\">\n",
    "یاد‌داشت‌های دوست‌تان!\n",
    "</font>\n",
    "</h2>\n",
    "<p dir=rtl style=\"direction: rtl;text-align: justify;line-height:200%;font-family:vazir;font-size:medium\">\n",
    "<font face=\"vazir\" size=3>\n",
    "<ul dir=rtl style=\"direction: rtl;text-align: justify;\">\n",
    "  <li>\n",
    "از شنبه تا جمعه به ترتیب ۴۵، ۴۰، ۳۵، ۴۰، ۲۵، ۳۵ و ۱۵ دقیقه دویدم.</li>\n",
    "  <li>\n",
    "  اندازه‌ی نمودار هشت در شش اینچ بود.\n",
    "</li>\n",
    "<li>\n",
    "اندازه‌ی فونت عنوان صفحه‌محور ۱۸ و رنگ فونت‌ش هم <code>mediumvioletred</code> بود.\n",
    "</li>\n",
    "<li>\n",
    "نوع مارکر \n",
    "<code>p</code>،\n",
    " سایزش ۱۲، و رنگ داخل‌ مارکر‌ها \n",
    " <code>orange</code>\n",
    "  بود. خط بین مارکر‌ها رو از جنس <code>dashed</code>   با ضخامت ۲ و رنگ <code>oldlace</code> انتخاب کرده بودم. \n",
    "</li>\n",
    "<li>\n",
    "رنگ پس‌زمینه‌ی صفحه‌محور و عناوین محور افقی و عمودی  \n",
    "<code>blueviolet</code>\n",
    "بود. اندازه‌ی فونت عناوین محور‌ها نیز ۱۶ بود.</li>\n",
    "<li>\n",
    "رنگ روزهای هفته با رنگ عنوان صفحه‌محور یکسان بود.\n",
    "</li>\n",
    "<li>\n",
    "رنگ پس‌زمینه‌ی شکل را\n",
    "<code>oldlace</code> انتخاب کرده‌ بودم.\n",
    "</li>\n",
    "</ul>\n",
    "</font>\n",
    "</p>"
   ]
  },
  {
   "attachments": {},
   "cell_type": "markdown",
   "metadata": {},
   "source": [
    "\n",
    "<h2 align=right style=\"line-height:200%;font-family:vazir;color:#0099cc\">\n",
    "<font face=\"vazir\" color=\"#0099cc\">\n",
    "رسم نمودار\n",
    "</font>\n",
    "</h2>\n"
   ]
  },
  {
   "attachments": {},
   "cell_type": "markdown",
   "metadata": {},
   "source": [
    "\n",
    "<div dir=rtl style=\"line-height:200%;font-family:vazir;font-size:medium\">\n",
    "<p style=\"direction: rtl;text-align: justify;\">\n",
    "<font face=\"vazir\" size=3>\n",
    "با توجه به اطلاعات ارشیا، کدی بنویسید که نمودار مورد نظر را تولید کند. نمودار تولیدی شما، باید همانند عکس زیر باشد.\n",
    "</font>\n",
    "</p>\n",
    "</div>\n",
    "\n",
    "<div dir=rtl style=\"line-height:200%;font-family:vazir;font-size:medium\">\n",
    "<p style=\"direction: rtl;text-align: right;\">\n",
    "<font face=\"vazir\" size=3>\n",
    "<p style=\"text-align:center;\"><img src=\"output.png\"></p>\n",
    "</font>\n",
    "</p>\n",
    "</div>\n"
   ]
  },
  {
   "cell_type": "code",
   "execution_count": null,
   "metadata": {},
   "outputs": [],
   "source": [
    "import matplotlib.pyplot as plt\n",
    "# TODO: regenerate the plot\n",
    "fig , ax = None "
   ]
  },
  {
   "attachments": {},
   "cell_type": "markdown",
   "metadata": {},
   "source": [
    "<h2 align=right style=\"line-height:200%;font-family:vazir;color:#0099cc\">\n",
    "<font face=\"vazir\" color=\"#0099cc\">\n",
    "<b>سلول جواب‌ساز</b>\n",
    "</font>\n",
    "</h2>\n",
    "\n",
    "\n",
    "<p dir=rtl style=\"direction: rtl; text-align: justify; line-height:200%; font-family:vazir; font-size:medium\">\n",
    "<font face=\"vazir\" size=3>\n",
    "    برای ساخته‌شدن فایل <code>result.zip</code> سلول زیر را اجرا کنید. توجه داشته باشید که پیش از اجرای سلول زیر تغییرات اعمال شده در نت‌بوک را ذخیره کرده باشید (<code>ctrl+s</code>) تا در صورت نیاز به پشتیبانی امکان بررسی کد شما وجود داشته باشد.\n",
    "</font>\n",
    "</p>\n",
    "\n"
   ]
  },
  {
   "cell_type": "code",
   "execution_count": null,
   "metadata": {},
   "outputs": [],
   "source": [
    "import zlib\n",
    "import zipfile\n",
    "import joblib\n",
    "\n",
    "joblib.dump(fig,\"fig\")\n",
    "joblib.dump(fig,\"fig_t\")\n",
    "\n",
    "def compress(file_names):\n",
    "    print(\"File Paths:\")\n",
    "    print(file_names)\n",
    "    # Select the compression mode ZIP_DEFLATED for compression\n",
    "    # or zipfile.ZIP_STORED to just store the file\n",
    "    compression = zipfile.ZIP_DEFLATED\n",
    "    # create the zip file first parameter path/name, second mode\n",
    "    with zipfile.ZipFile(\"result.zip\", mode=\"w\") as zf:\n",
    "        for file_name in file_names:\n",
    "            # Add file to the zip file\n",
    "            # first parameter file to zip, second filename in zip\n",
    "            zf.write('./' + file_name, file_name, compress_type=compression)\n",
    "\n",
    "\n",
    "file_names = [\"fig\", \"what_is_done_can_be_undone.ipynb\"]\n",
    "compress(file_names)"
   ]
  }
 ],
 "metadata": {
  "kernelspec": {
   "display_name": "Python 3",
   "language": "python",
   "name": "python3"
  },
  "language_info": {
   "codemirror_mode": {
    "name": "ipython",
    "version": 3
   },
   "file_extension": ".py",
   "mimetype": "text/x-python",
   "name": "python",
   "nbconvert_exporter": "python",
   "pygments_lexer": "ipython3",
   "version": "3.8.0"
  },
  "orig_nbformat": 4,
  "vscode": {
   "interpreter": {
    "hash": "44e7e1b8fa2096bd5707ed7fd18b1724a2db25f4c565a7673f8b6e7bfc49d25d"
   }
  }
 },
 "nbformat": 4,
 "nbformat_minor": 2
}
